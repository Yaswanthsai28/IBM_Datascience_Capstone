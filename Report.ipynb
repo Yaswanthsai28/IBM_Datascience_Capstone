{
    "cells": [
        {
            "metadata": {
                "collapsed": true
            },
            "cell_type": "markdown",
            "source": "# The Battle of Neighborhood"
        },
        {
            "metadata": {},
            "cell_type": "markdown",
            "source": "## Introduction"
        },
        {
            "metadata": {},
            "cell_type": "markdown",
            "source": "The main target of this project is to find similarities between the cities and clusters together so that we can find popular items in that location.\n\nIt will provide the best places to visit near you depending upon your interest."
        },
        {
            "metadata": {},
            "cell_type": "markdown",
            "source": "## Data"
        },
        {
            "metadata": {},
            "cell_type": "markdown",
            "source": "We can use the real-time location data by using the geocoders module and Geospatial coordinates file.\n\nThe data from the previous project (Assignment) can also be used.\n\nFoursquare data can be used."
        },
        {
            "metadata": {},
            "cell_type": "markdown",
            "source": "## Methodology"
        },
        {
            "metadata": {},
            "cell_type": "markdown",
            "source": "The required location can be found using geocoders module.\n\nFoursquare API can be used to obtain the nearest places of the given location.\n\nClustering (Un-supervised Machine Learning Algorithm) is used to group the locations with  similar properties.\n\nThe nearest locations are shown in a map for better understanding.\n\n<img src='https://raw.githubusercontent.com/dinesh99639/Coursera_Capstone/master/capstone_map.png'>\n\nThe data is cleaned by splitting and removing some columns.\n\n<u>Old table</u>\n\n<img src='https://raw.githubusercontent.com/dinesh99639/Coursera_Capstone/master/capstone_oldtab.png'>\n\n<u>New table</u>\n\n<img src='https://raw.githubusercontent.com/dinesh99639/Coursera_Capstone/master/capstone_newtab.png'>\n\nThe final table of the project obtained is \n\n<img src='https://raw.githubusercontent.com/dinesh99639/Coursera_Capstone/master/capstone_finaltab.png'>"
        },
        {
            "metadata": {},
            "cell_type": "markdown",
            "source": "## Results"
        },
        {
            "metadata": {},
            "cell_type": "markdown",
            "source": "Merchants can setup their business in recommended category to get more profit.\n\nThe people who are new to the places can also use this system to obtain restaurants/clubs/etc.\n\n<img src='https://raw.githubusercontent.com/dinesh99639/Coursera_Capstone/master/capstone1.png'>"
        },
        {
            "metadata": {},
            "cell_type": "markdown",
            "source": "## Conclusion"
        },
        {
            "metadata": {},
            "cell_type": "markdown",
            "source": "This project is very useful for most of the travellers as they did not know the new place and what is popular in that place.\n\nIt provides the information about what they want in that place.\n\nIt also make profits for the business man as it suggests the places to set up the new business so that, there will be more people to buy their product"
        }
    ],
    "metadata": {
        "kernelspec": {
            "name": "python3",
            "display_name": "Python 3.6",
            "language": "python"
        },
        "language_info": {
            "name": "python",
            "version": "3.6.9",
            "mimetype": "text/x-python",
            "codemirror_mode": {
                "name": "ipython",
                "version": 3
            },
            "pygments_lexer": "ipython3",
            "nbconvert_exporter": "python",
            "file_extension": ".py"
        }
    },
    "nbformat": 4,
    "nbformat_minor": 1
}