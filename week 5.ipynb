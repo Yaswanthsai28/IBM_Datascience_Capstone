{
    "cells": [
        {
            "attachments": {},
            "cell_type": "markdown",
            "metadata": {
                "collapsed": true
            },
            "source": "# The Battle of Neighborhood"
        },
        {
            "cell_type": "markdown",
            "metadata": {},
            "source": "## Introduction"
        },
        {
            "attachments": {},
            "cell_type": "markdown",
            "metadata": {},
            "source": "The main target of this project is to find similarities between the cities and clusters together so that we can find popular items in that location.\n\nIt will provide the best places to visit near you depending upon your interest."
        },
        {
            "cell_type": "markdown",
            "metadata": {},
            "source": "## Data"
        },
        {
            "attachments": {},
            "cell_type": "markdown",
            "metadata": {},
            "source": "We can use the real-time location data by using the geocoders module and Geospatial coordinates file.\n\nThe data from the previous project (Assignment) can also be used.\n\nFoursquare data can be used."
        },
        {
            "attachments": {},
            "cell_type": "markdown",
            "metadata": {},
            "source": "## Methodology"
        },
        {
            "attachments": {},
            "cell_type": "markdown",
            "metadata": {},
            "source": "The required location can be found using geocoders module.\n\nFoursquare API can be used to obtain the nearest places of the given location.\n\nClustering (Un-supervised Machine Learning Algorithm) is used to group the locations with  similar properties."
        },
        {
            "cell_type": "code",
            "execution_count": null,
            "metadata": {},
            "outputs": [],
            "source": ""
        },
        {
            "cell_type": "code",
            "execution_count": null,
            "metadata": {},
            "outputs": [],
            "source": ""
        }
    ],
    "metadata": {
        "kernelspec": {
            "display_name": "Python 3.6",
            "language": "python",
            "name": "python3"
        },
        "language_info": {
            "codemirror_mode": {
                "name": "ipython",
                "version": 3
            },
            "file_extension": ".py",
            "mimetype": "text/x-python",
            "name": "python",
            "nbconvert_exporter": "python",
            "pygments_lexer": "ipython3",
            "version": "3.6.9"
        }
    },
    "nbformat": 4,
    "nbformat_minor": 1
}